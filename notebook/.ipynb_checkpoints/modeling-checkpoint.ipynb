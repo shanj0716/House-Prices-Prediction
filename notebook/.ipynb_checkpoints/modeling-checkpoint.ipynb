{
 "cells": [
  {
   "cell_type": "markdown",
   "metadata": {},
   "source": [
    "### 4. Modeling \n",
    "We try 9 wildly used regression model to train with our data, using GridSearch to optimize the parameters. Comparing single model with stacking models, we choose the best model to do prediction. Furthermore, we fine-turn the prediction values manually to get a better score."
   ]
  },
  {
   "cell_type": "markdown",
   "metadata": {},
   "source": [
    "#### Loading data\n",
    "Getting the prepared data and check the data shape."
   ]
  },
  {
   "cell_type": "code",
   "execution_count": 7,
   "metadata": {},
   "outputs": [],
   "source": [
    "import pandas as pd\n",
    "import numpy as np"
   ]
  },
  {
   "cell_type": "code",
   "execution_count": 8,
   "metadata": {},
   "outputs": [],
   "source": [
    "X=pd.read_csv(\"X_drop.csv\")\n",
    "test=pd.read_csv(\"testing_features.csv\")"
   ]
  },
  {
   "cell_type": "code",
   "execution_count": 9,
   "metadata": {},
   "outputs": [],
   "source": [
    "train = pd.read_csv(\"train_drop.csv\")\n",
    "train.drop(['Id'], axis=1, inplace=True)\n",
    "train.SalePrice = np.log1p(train.SalePrice)\n",
    "y = train.SalePrice.reset_index(drop=True)"
   ]
  },
  {
   "cell_type": "code",
   "execution_count": 10,
   "metadata": {},
   "outputs": [
    {
     "data": {
      "text/plain": [
       "(1424, 76)"
      ]
     },
     "execution_count": 10,
     "metadata": {},
     "output_type": "execute_result"
    }
   ],
   "source": [
    "X.shape"
   ]
  },
  {
   "cell_type": "code",
   "execution_count": 11,
   "metadata": {},
   "outputs": [
    {
     "data": {
      "text/plain": [
       "(1459, 76)"
      ]
     },
     "execution_count": 11,
     "metadata": {},
     "output_type": "execute_result"
    }
   ],
   "source": [
    "test.shape"
   ]
  },
  {
   "cell_type": "code",
   "execution_count": 12,
   "metadata": {},
   "outputs": [
    {
     "data": {
      "text/plain": [
       "(1424,)"
      ]
     },
     "execution_count": 12,
     "metadata": {},
     "output_type": "execute_result"
    }
   ],
   "source": [
    "y.shape"
   ]
  },
  {
   "cell_type": "code",
   "execution_count": 13,
   "metadata": {},
   "outputs": [
    {
     "data": {
      "text/plain": [
       "0    12.247699\n",
       "1    12.109016\n",
       "2    12.317171\n",
       "3    11.849405\n",
       "4    12.429220\n",
       "Name: SalePrice, dtype: float64"
      ]
     },
     "execution_count": 13,
     "metadata": {},
     "output_type": "execute_result"
    }
   ],
   "source": [
    "y.head()"
   ]
  },
  {
   "cell_type": "markdown",
   "metadata": {},
   "source": [
    "#### Tranformation of data\n",
    "Since we droped some instances from train data, we will fit the pipeline again."
   ]
  },
  {
   "cell_type": "code",
   "execution_count": 14,
   "metadata": {},
   "outputs": [],
   "source": [
    "from sklearn.preprocessing import OneHotEncoder, StandardScaler\n",
    "from sklearn.compose import ColumnTransformer"
   ]
  },
  {
   "cell_type": "code",
   "execution_count": 15,
   "metadata": {},
   "outputs": [],
   "source": [
    "all_data = pd.concat([X, test]).reset_index(drop=True)"
   ]
  },
  {
   "cell_type": "code",
   "execution_count": 16,
   "metadata": {},
   "outputs": [
    {
     "name": "stderr",
     "output_type": "stream",
     "text": [
      "/Users/shaopeng/ml/env/lib/python3.7/site-packages/sklearn/preprocessing/data.py:625: DataConversionWarning: Data with input dtype int64, float64 were all converted to float64 by StandardScaler.\n",
      "  return self.partial_fit(X, y)\n",
      "/Users/shaopeng/ml/env/lib/python3.7/site-packages/sklearn/base.py:462: DataConversionWarning: Data with input dtype int64, float64 were all converted to float64 by StandardScaler.\n",
      "  return self.fit(X, **fit_params).transform(X)\n"
     ]
    }
   ],
   "source": [
    "features_num = all_data.select_dtypes(include=[np.number])\n",
    "features_cat = all_data.select_dtypes(exclude=[np.number])\n",
    "num_features = list(features_num)\n",
    "cat_features = list(features_cat)\n",
    "\n",
    "CT=ColumnTransformer([\n",
    "    ('num', StandardScaler(), num_features),\n",
    "    ('cat', OneHotEncoder(), cat_features)\n",
    "])\n",
    "all_data_prepared = CT.fit_transform(all_data)"
   ]
  },
  {
   "cell_type": "code",
   "execution_count": 17,
   "metadata": {},
   "outputs": [
    {
     "data": {
      "text/plain": [
       "(1424, 280)"
      ]
     },
     "execution_count": 17,
     "metadata": {},
     "output_type": "execute_result"
    }
   ],
   "source": [
    "X_train = all_data_prepared[:len(y)]\n",
    "X_train.shape"
   ]
  },
  {
   "cell_type": "code",
   "execution_count": 18,
   "metadata": {},
   "outputs": [
    {
     "data": {
      "text/plain": [
       "(1459, 280)"
      ]
     },
     "execution_count": 18,
     "metadata": {},
     "output_type": "execute_result"
    }
   ],
   "source": [
    "X_test = all_data_prepared[len(y):]\n",
    "X_test.shape"
   ]
  },
  {
   "cell_type": "markdown",
   "metadata": {},
   "source": [
    "Finally, we get 280 features including numerical features and dummies features. It's time to modeling."
   ]
  },
  {
   "cell_type": "markdown",
   "metadata": {},
   "source": [
    "#### Train 9 different models with GridSearch\n",
    "For modeling, there is no free lunch! Keep trying may lead to discover. Here, we choose popular used 10 models to deal with this regression problem, as below:\n",
    "1. Linear regression without regularization;\n",
    "2. Ridge: linear regression with L2 penalty;\n",
    "3. Lasso: linear regression with L1 penalty;\n",
    "4. ElasticNet: linear regression with L1+L2 penalty;\n",
    "5. Gradient boosting: gradient boosted regression tree;\n",
    "6. XGBoost: an optimized distributed gradient boosting;\n",
    "7. SVR: support vector regression;\n",
    "8. Linear SVR: support vector regression with linear kenels;\n",
    "9. Randam forest tree. \n",
    "\n",
    "We use GridSearchCV to get the best parameters for each model and use RMSE score to evaluate the models' performance."
   ]
  },
  {
   "cell_type": "code",
   "execution_count": 19,
   "metadata": {},
   "outputs": [],
   "source": [
    "from xgboost.sklearn import XGBRegressor\n",
    "from sklearn.linear_model import LinearRegression, Lasso, Ridge, ElasticNet, SGDRegressor\n",
    "from sklearn.svm import SVR, LinearSVR\n",
    "from sklearn.ensemble import RandomForestRegressor, GradientBoostingRegressor\n",
    "from sklearn.tree import DecisionTreeRegressor\n",
    "from sklearn import linear_model\n",
    "from sklearn.model_selection import GridSearchCV\n",
    "from sklearn.metrics import mean_squared_error\n",
    "from sklearn.model_selection import cross_val_score"
   ]
  },
  {
   "cell_type": "code",
   "execution_count": 20,
   "metadata": {},
   "outputs": [
    {
     "name": "stdout",
     "output_type": "stream",
     "text": [
      "0.10058931672872769\n"
     ]
    }
   ],
   "source": [
    "linreg = LinearRegression()\n",
    "parameters = {'fit_intercept':[True,False], 'normalize':[True,False], 'copy_X':[True, False]}\n",
    "grid_linear = GridSearchCV(linreg, parameters, cv=5, scoring = 'neg_mean_squared_error')\n",
    "grid_linear_result=grid_linear.fit(X_train, y)\n",
    "linreg_score=np.sqrt(-cross_val_score(grid_linear, X_train, y, cv=3)).mean()\n",
    "print(linreg_score)"
   ]
  },
  {
   "cell_type": "code",
   "execution_count": 21,
   "metadata": {},
   "outputs": [
    {
     "name": "stdout",
     "output_type": "stream",
     "text": [
      "Best parameters: {'copy_X': True, 'fit_intercept': True, 'normalize': True} \n"
     ]
    }
   ],
   "source": [
    "best_params = grid_linear_result.best_params_\n",
    "print(\"Best parameters: %s \" % (best_params))"
   ]
  },
  {
   "cell_type": "code",
   "execution_count": 22,
   "metadata": {},
   "outputs": [
    {
     "name": "stdout",
     "output_type": "stream",
     "text": [
      "0.09073059410953221\n"
     ]
    }
   ],
   "source": [
    "ridge = Ridge()\n",
    "parameters = {'alpha':np.arange(10,15,1), 'normalize':[True,False], 'fit_intercept':[True,False]}\n",
    "grid_ridge = GridSearchCV(ridge, parameters, cv=5, scoring = 'neg_mean_squared_error')\n",
    "grid_ridge_result=grid_ridge.fit(X_train, y)\n",
    "ridge_score=np.sqrt(-cross_val_score(grid_ridge, X_train, y, cv=3)).mean()\n",
    "print(ridge_score)"
   ]
  },
  {
   "cell_type": "code",
   "execution_count": 134,
   "metadata": {},
   "outputs": [
    {
     "name": "stdout",
     "output_type": "stream",
     "text": [
      "Best parameters: {'alpha': 14, 'fit_intercept': True, 'normalize': False} \n"
     ]
    }
   ],
   "source": [
    "best_params = grid_ridge_result.best_params_\n",
    "print(\"Best parameters: %s \" % (best_params))"
   ]
  },
  {
   "cell_type": "code",
   "execution_count": 29,
   "metadata": {},
   "outputs": [
    {
     "name": "stdout",
     "output_type": "stream",
     "text": [
      "0.08913372437672512\n"
     ]
    }
   ],
   "source": [
    "lasso = linear_model.Lasso(tol=0.005)\n",
    "parameters = {'alpha':[0.0001, 0.001],'normalize':[True,False], 'fit_intercept':[True,False]}\n",
    "grid_lasso = GridSearchCV(lasso, parameters, cv=5, scoring = 'neg_mean_squared_error')\n",
    "grid_lasso_result=grid_lasso.fit(X_train, y)\n",
    "lasso_score=np.sqrt(-cross_val_score(grid_lasso, X_train, y, cv=3)).mean()\n",
    "print(lasso_score)"
   ]
  },
  {
   "cell_type": "code",
   "execution_count": 136,
   "metadata": {},
   "outputs": [
    {
     "name": "stdout",
     "output_type": "stream",
     "text": [
      "Best parameters: {'alpha': 0.0001, 'fit_intercept': True, 'normalize': True} \n"
     ]
    }
   ],
   "source": [
    "best_params = grid_lasso_result.best_params_\n",
    "print(\"Best parameters: %s \" % (best_params))"
   ]
  },
  {
   "cell_type": "code",
   "execution_count": 69,
   "metadata": {},
   "outputs": [
    {
     "name": "stdout",
     "output_type": "stream",
     "text": [
      "0.09049656397751205\n"
     ]
    }
   ],
   "source": [
    "enet = ElasticNet(tol=0.015)\n",
    "parameters = {'alpha': np.arange(1e-4,1e-3,1e-4),\n",
    "              'l1_ratio': np.arange(0.1,1.0,0.1)}\n",
    "grid_enet = GridSearchCV(enet, parameters, cv=5, scoring = 'neg_mean_squared_error')\n",
    "grid_enet_result=grid_enet.fit(X_train, y)\n",
    "enet_score=np.sqrt(-cross_val_score(grid_enet, X_train, y, cv=3)).mean()\n",
    "print(enet_score)"
   ]
  },
  {
   "cell_type": "code",
   "execution_count": 70,
   "metadata": {},
   "outputs": [
    {
     "name": "stdout",
     "output_type": "stream",
     "text": [
      "Best parameters: {'alpha': 0.0005, 'l1_ratio': 0.8} \n"
     ]
    }
   ],
   "source": [
    "best_params = grid_enet_result.best_params_\n",
    "print(\"Best parameters: %s \" % (best_params))"
   ]
  },
  {
   "cell_type": "code",
   "execution_count": 32,
   "metadata": {},
   "outputs": [
    {
     "name": "stdout",
     "output_type": "stream",
     "text": [
      "0.09732468520464799\n"
     ]
    }
   ],
   "source": [
    "gbr= GradientBoostingRegressor()\n",
    "param_grid = {'n_estimators':np.arange(100,500,100),\n",
    "              'max_depth':np.arange(1,5,1)}\n",
    "grid_gbr = GridSearchCV(gbr, param_grid, cv=5, scoring = 'neg_mean_squared_error')\n",
    "grid_gbr_result=grid_gbr.fit(X_train, y)\n",
    "gbr_score=np.sqrt(-cross_val_score(grid_gbr, X_train, y, cv=3)).mean()\n",
    "print(gbr_score)"
   ]
  },
  {
   "cell_type": "code",
   "execution_count": 39,
   "metadata": {},
   "outputs": [
    {
     "name": "stdout",
     "output_type": "stream",
     "text": [
      "Best parameters: {'max_depth': 2, 'n_estimators': 400} \n"
     ]
    }
   ],
   "source": [
    "best_params = grid_gbr_result.best_params_\n",
    "print(\"Best parameters: %s \" % (best_params))"
   ]
  },
  {
   "cell_type": "code",
   "execution_count": 33,
   "metadata": {},
   "outputs": [
    {
     "name": "stdout",
     "output_type": "stream",
     "text": [
      "0.09530352535218965\n"
     ]
    }
   ],
   "source": [
    "xgbr = XGBRegressor()\n",
    "param_grid = {'n_estimators':np.arange(100,500,100),\n",
    "              'max_depth':np.arange(1,5,1)}\n",
    "grid_xgbr = GridSearchCV(xgbr, param_grid, cv=5, scoring = 'neg_mean_squared_error')\n",
    "grid_xgbr_result=grid_xgbr.fit(X_train, y)\n",
    "xgbr_score=np.sqrt(-cross_val_score(grid_xgbr, X_train, y, cv=3)).mean()\n",
    "print(xgbr_score)"
   ]
  },
  {
   "cell_type": "code",
   "execution_count": 40,
   "metadata": {},
   "outputs": [
    {
     "name": "stdout",
     "output_type": "stream",
     "text": [
      "Best parameters: {'max_depth': 2, 'n_estimators': 400} \n"
     ]
    }
   ],
   "source": [
    "best_params = grid_xgbr_result.best_params_\n",
    "print(\"Best parameters: %s \" % (best_params))"
   ]
  },
  {
   "cell_type": "code",
   "execution_count": 51,
   "metadata": {},
   "outputs": [
    {
     "name": "stdout",
     "output_type": "stream",
     "text": [
      "0.11510118208091076\n"
     ]
    }
   ],
   "source": [
    "lsvr = LinearSVR(tol=0.0005)\n",
    "param_grid = {'C':np.arange(0.1,1.0,0.1),\n",
    "             'max_iter':[50000]}\n",
    "grid_lsvr = GridSearchCV(lsvr, param_grid, cv=5, scoring = 'neg_mean_squared_error')\n",
    "grid_lsvr_result=grid_lsvr.fit(X_train, y)\n",
    "lsvr_score=np.sqrt(-cross_val_score(grid_lsvr, X_train, y, cv=3)).mean()\n",
    "print(lsvr_score)"
   ]
  },
  {
   "cell_type": "code",
   "execution_count": 42,
   "metadata": {},
   "outputs": [
    {
     "name": "stdout",
     "output_type": "stream",
     "text": [
      "Best parameters: {'C': 0.6, 'max_iter': 50000} \n"
     ]
    }
   ],
   "source": [
    "best_params = grid_lsvr_result.best_params_\n",
    "print(\"Best parameters: %s \" % (best_params))"
   ]
  },
  {
   "cell_type": "code",
   "execution_count": 43,
   "metadata": {},
   "outputs": [
    {
     "name": "stdout",
     "output_type": "stream",
     "text": [
      "0.1002917435374779\n"
     ]
    }
   ],
   "source": [
    "svr= SVR()\n",
    "param_grid = {'C':np.arange(1,11,2),\n",
    "              'kernel':['poly','rbf','sigmoid'],\n",
    "              'gamma':['auto']}\n",
    "grid_svr = GridSearchCV(svr, param_grid, cv=5, scoring = 'neg_mean_squared_error')\n",
    "grid_svr_result=grid_svr.fit(X_train, y)\n",
    "svr_score=np.sqrt(-cross_val_score(grid_svr, X_train, y, cv=3)).mean()\n",
    "print(svr_score)"
   ]
  },
  {
   "cell_type": "code",
   "execution_count": 44,
   "metadata": {},
   "outputs": [
    {
     "name": "stdout",
     "output_type": "stream",
     "text": [
      "Best parameters: {'C': 3, 'gamma': 'auto', 'kernel': 'rbf'} \n"
     ]
    }
   ],
   "source": [
    "best_params = grid_svr_result.best_params_\n",
    "print(\"Best parameters: %s \" % (best_params))"
   ]
  },
  {
   "cell_type": "code",
   "execution_count": 47,
   "metadata": {},
   "outputs": [
    {
     "name": "stdout",
     "output_type": "stream",
     "text": [
      "0.11516178109803699\n"
     ]
    }
   ],
   "source": [
    "rfr=RandomForestRegressor()\n",
    "param_grid = {'n_estimators':[100,150,200],\n",
    "              'max_features':[25,50,75],\n",
    "              'min_samples_split':[2,4,6]}\n",
    "grid_rfr = GridSearchCV(rfr, param_grid, cv=5, scoring = 'neg_mean_squared_error')\n",
    "grid_rfr_result=grid_rfr.fit(X_train, y)\n",
    "rfr_score=np.sqrt(-cross_val_score(grid_rfr, X_train, y, cv=3)).mean()\n",
    "print(rfr_score)"
   ]
  },
  {
   "cell_type": "code",
   "execution_count": 48,
   "metadata": {},
   "outputs": [
    {
     "name": "stdout",
     "output_type": "stream",
     "text": [
      "Best parameters: {'max_features': 75, 'min_samples_split': 4, 'n_estimators': 100} \n"
     ]
    }
   ],
   "source": [
    "best_params = grid_rfr_result.best_params_\n",
    "print(\"Best parameters: %s \" % (best_params))"
   ]
  },
  {
   "cell_type": "markdown",
   "metadata": {},
   "source": [
    "#### Comparing the RMSE score of different models\n",
    "Here, we draw a graph to show the models performance. As we see below, the best performance model is Lasso. We will use it to predict the test data first."
   ]
  },
  {
   "cell_type": "code",
   "execution_count": 74,
   "metadata": {},
   "outputs": [],
   "source": [
    "list_scores = [linreg_score, ridge_score, lasso_score, enet_score, rfr_score, gbr_score, xgbr_score, lsvr_score, svr_score]\n",
    "list_regressors = ['Linear','Ridge','Lasso','ElaNet','RF','GBR','XGBR','linear SVR', 'SVR']"
   ]
  },
  {
   "cell_type": "code",
   "execution_count": 75,
   "metadata": {},
   "outputs": [
    {
     "data": {
      "image/png": "[encoded data removed]",
      "text/plain": [
       "<Figure size 576x432 with 1 Axes>"
      ]
     },
     "metadata": {
      "needs_background": "light"
     },
     "output_type": "display_data"
    }
   ],
   "source": [
    "import seaborn as sns\n",
    "import matplotlib.pyplot as plt\n",
    "plt.figure(figsize=(8, 6))\n",
    "sns.barplot(x=list_regressors, y=list_scores)\n",
    "plt.ylabel('RMSE')\n",
    "plt.show()"
   ]
  },
  {
   "cell_type": "code",
   "execution_count": 76,
   "metadata": {},
   "outputs": [],
   "source": [
    "ridge=grid_ridge.best_estimator_\n",
    "lasso=grid_lasso.best_estimator_\n",
    "elanet=grid_enet.best_estimator_\n",
    "xgbr=grid_xgbr.best_estimator_\n",
    "gbr=grid_gbr.best_estimator_\n",
    "sgd=grid_sgd.best_estimator_\n",
    "rf=grid_sgd.best_estimator_\n",
    "svr=grid_svr.best_estimator_\n",
    "linreg=grid_linear.best_estimator_\n",
    "lsvr=grid_lsvr.best_estimator_"
   ]
  },
  {
   "cell_type": "markdown",
   "metadata": {},
   "source": [
    "#### Using single model to predict\n",
    "We choose the best model Lasso."
   ]
  },
  {
   "cell_type": "code",
   "execution_count": 77,
   "metadata": {},
   "outputs": [],
   "source": [
    "# best model-Lasso    \n",
    "y_predict1=lasso.predict(X_train)"
   ]
  },
  {
   "cell_type": "markdown",
   "metadata": {},
   "source": [
    "We draw a scatter plot of y and y predicted with training data. As showed, some smaller values are not regression well, so we manually tune the values by a small ratio."
   ]
  },
  {
   "cell_type": "code",
   "execution_count": 78,
   "metadata": {},
   "outputs": [
    {
     "data": {
      "text/plain": [
       "[<matplotlib.lines.Line2D at 0x132b55cf8>]"
      ]
     },
     "execution_count": 78,
     "metadata": {},
     "output_type": "execute_result"
    },
    {
     "data": {
      "image/png": "[encoded data removed]",
      "text/plain": [
       "<Figure size 648x648 with 1 Axes>"
      ]
     },
     "metadata": {
      "needs_background": "light"
     },
     "output_type": "display_data"
    }
   ],
   "source": [
    "plt.figure(figsize=(9, 9))\n",
    "plt.scatter(y, y_predict1)\n",
    "plt.plot(range(10, 15), range(10, 15), color=\"red\")"
   ]
  },
  {
   "cell_type": "markdown",
   "metadata": {},
   "source": [
    "We choose least 0.5% values and reduce their values by 1%."
   ]
  },
  {
   "cell_type": "code",
   "execution_count": 79,
   "metadata": {},
   "outputs": [
    {
     "data": {
      "text/plain": [
       "[<matplotlib.lines.Line2D at 0x120d3f2b0>]"
      ]
     },
     "execution_count": 79,
     "metadata": {},
     "output_type": "execute_result"
    },
    {
     "data": {
      "image/png": "[encoded data removed]",
      "text/plain": [
       "<Figure size 648x648 with 1 Axes>"
      ]
     },
     "metadata": {
      "needs_background": "light"
     },
     "output_type": "display_data"
    }
   ],
   "source": [
    "q1 = pd.DataFrame(y_predict1).quantile(0.005)\n",
    "pre_df = pd.DataFrame(y_predict1)\n",
    "pre_df[\"SalePrice\"] = y_predict1\n",
    "pre_df = pre_df[[\"SalePrice\"]]\n",
    "pre_df.loc[pre_df.SalePrice <= q1[0], \"SalePrice\"] = pre_df.loc[pre_df.SalePrice <= q1[0], \"SalePrice\"]*0.99\n",
    "train_predict = np.array(pre_df.SalePrice)\n",
    "plt.figure(figsize=(9, 9))\n",
    "plt.scatter(y, train_predict)\n",
    "plt.plot(range(10, 15), range(10, 15), color=\"red\")"
   ]
  },
  {
   "cell_type": "markdown",
   "metadata": {},
   "source": [
    "Finally, we use the Lasso model to predict test data and fine-tune the smaller values."
   ]
  },
  {
   "cell_type": "code",
   "execution_count": 80,
   "metadata": {},
   "outputs": [],
   "source": [
    "y_test1=lasso.predict(X_test)"
   ]
  },
  {
   "cell_type": "code",
   "execution_count": 83,
   "metadata": {},
   "outputs": [],
   "source": [
    "submission=pd.read_csv('sample_submission.csv')\n",
    "q1 = pd.DataFrame(y_test1).quantile(0.005)\n",
    "pre_df = pd.DataFrame(y_test1)\n",
    "pre_df[\"SalePrice\"] = y_test1\n",
    "pre_df = pre_df[[\"SalePrice\"]]\n",
    "pre_df.loc[pre_df.SalePrice <= q1[0], \"SalePrice\"] = pre_df.loc[pre_df.SalePrice <= q1[0], \"SalePrice\"] *0.99\n",
    "test_predict = np.array(pre_df.SalePrice)\n",
    "submission[\"SalePrice\"] = np.floor(np.exp(test_predict)-1)\n",
    "submission.to_csv(\"y_test1\", index=False)\n",
    "# RMSE score is 0.11933"
   ]
  },
  {
   "cell_type": "markdown",
   "metadata": {},
   "source": [
    "After submission to kaggle, this Lasso model get a 'RMSE score = 0.11933', which is good althought not as good as fitting train data. Next, we will try several strategies to improve our prediction."
   ]
  },
  {
   "cell_type": "markdown",
   "metadata": {},
   "source": [
    "#### Using best 4 models together\n",
    "Here, we try to combine the best top 4 single models together. Putting different model together can reduce bias of a single model. We try different combination ratio of each model. This one showed below is the best one we find:"
   ]
  },
  {
   "cell_type": "code",
   "execution_count": 84,
   "metadata": {},
   "outputs": [],
   "source": [
    "# Using best 4 model together  \n",
    "y_predict2=0.3*ridge.predict(X_train)+0.3*lasso.predict(X_train)+0.1*gbr.predict(X_train)+0.3*xgbr.predict(X_train)"
   ]
  },
  {
   "cell_type": "markdown",
   "metadata": {},
   "source": [
    "First, we check the RMSE score with train data. It is abviously improved compareing with only using Lasso model."
   ]
  },
  {
   "cell_type": "code",
   "execution_count": 85,
   "metadata": {},
   "outputs": [
    {
     "name": "stdout",
     "output_type": "stream",
     "text": [
      "0.06909218855492133\n"
     ]
    }
   ],
   "source": [
    "y_predict2_mse = mean_squared_error(y, y_predict2)\n",
    "y_predict2_rmse = np.sqrt(y_predict2_mse)  \n",
    "print(y_predict2_rmse)"
   ]
  },
  {
   "cell_type": "markdown",
   "metadata": {},
   "source": [
    "Next, we draw a scatter plot of y and y predicted with train data. It looks good. "
   ]
  },
  {
   "cell_type": "code",
   "execution_count": 86,
   "metadata": {},
   "outputs": [
    {
     "data": {
      "text/plain": [
       "[<matplotlib.lines.Line2D at 0x1329af358>]"
      ]
     },
     "execution_count": 86,
     "metadata": {},
     "output_type": "execute_result"
    },
    {
     "data": {
      "image/png": "[encoded data removed]",
      "text/plain": [
       "<Figure size 648x648 with 1 Axes>"
      ]
     },
     "metadata": {
      "needs_background": "light"
     },
     "output_type": "display_data"
    }
   ],
   "source": [
    "plt.figure(figsize=(9, 9))\n",
    "plt.scatter(y, y_predict2)\n",
    "plt.plot(range(10, 15), range(10, 15), color=\"red\")"
   ]
  },
  {
   "cell_type": "markdown",
   "metadata": {},
   "source": [
    "So, we use it to predict test data."
   ]
  },
  {
   "cell_type": "code",
   "execution_count": 87,
   "metadata": {},
   "outputs": [],
   "source": [
    "y_test2=0.3*ridge.predict(X_test)+0.3*lasso.predict(X_test)+0.1*gbr.predict(X_test)+0.3*xgbr.predict(X_test)"
   ]
  },
  {
   "cell_type": "code",
   "execution_count": 88,
   "metadata": {},
   "outputs": [],
   "source": [
    "submission.iloc[:,1] = np.floor(np.exp(y_test2)-1)\n",
    "submission.to_csv('y_test2', index=False)\n",
    "# RMSE score is 0.11860"
   ]
  },
  {
   "cell_type": "markdown",
   "metadata": {},
   "source": [
    "After submission to kaggle, this 4-models-combination gets a 'RMSE score = 0.11860', which is improved than only using Lasso. "
   ]
  },
  {
   "cell_type": "markdown",
   "metadata": {},
   "source": [
    "#### Using best 5 models together\n",
    "Next, we try to combine the best top 5 single models together."
   ]
  },
  {
   "cell_type": "code",
   "execution_count": 89,
   "metadata": {},
   "outputs": [],
   "source": [
    "# Using best 5 models together \n",
    "y_predict3=0.2*ridge.predict(X_train)+0.2*lasso.predict(X_train)+0.2*gbr.predict(X_train)+0.2*xgbr.predict(X_train)+0.2*elanet.predict(X_train)"
   ]
  },
  {
   "cell_type": "markdown",
   "metadata": {},
   "source": [
    "As before, we check the RMSE score with train data first. It is abviously improved compareing with only using Lasso model and a little bit improved than 4-models-combination."
   ]
  },
  {
   "cell_type": "code",
   "execution_count": 90,
   "metadata": {},
   "outputs": [
    {
     "name": "stdout",
     "output_type": "stream",
     "text": [
      "0.06891203310294039\n"
     ]
    }
   ],
   "source": [
    "y_predict3_mse = mean_squared_error(y, y_predict3)\n",
    "y_predict3_rmse = np.sqrt(y_predict3_mse)  \n",
    "print(y_predict3_rmse)"
   ]
  },
  {
   "cell_type": "markdown",
   "metadata": {},
   "source": [
    "Next, we draw a scatter plot of y and y predicted with train data. It looks the smaller values not regression well. "
   ]
  },
  {
   "cell_type": "code",
   "execution_count": 91,
   "metadata": {},
   "outputs": [
    {
     "data": {
      "text/plain": [
       "[<matplotlib.lines.Line2D at 0x132c60208>]"
      ]
     },
     "execution_count": 91,
     "metadata": {},
     "output_type": "execute_result"
    },
    {
     "data": {
      "image/png": "[encoded data removed]",
      "text/plain": [
       "<Figure size 648x648 with 1 Axes>"
      ]
     },
     "metadata": {
      "needs_background": "light"
     },
     "output_type": "display_data"
    }
   ],
   "source": [
    "plt.figure(figsize=(9, 9))\n",
    "plt.scatter(y, y_predict3)\n",
    "plt.plot(range(10, 15), range(10, 15), color=\"red\")"
   ]
  },
  {
   "cell_type": "markdown",
   "metadata": {},
   "source": [
    "We use the same method as before: choose least 0.5% values and reduce their values by 1%."
   ]
  },
  {
   "cell_type": "code",
   "execution_count": 92,
   "metadata": {},
   "outputs": [
    {
     "data": {
      "text/plain": [
       "[<matplotlib.lines.Line2D at 0x11fafab00>]"
      ]
     },
     "execution_count": 92,
     "metadata": {},
     "output_type": "execute_result"
    },
    {
     "data": {
      "image/png": "[encoded data removed]",
      "text/plain": [
       "<Figure size 648x648 with 1 Axes>"
      ]
     },
     "metadata": {
      "needs_background": "light"
     },
     "output_type": "display_data"
    }
   ],
   "source": [
    "q1 = pd.DataFrame(y_predict3).quantile(0.005)\n",
    "pre_df = pd.DataFrame(y_predict3)\n",
    "pre_df[\"SalePrice\"] = y_predict3\n",
    "pre_df = pre_df[[\"SalePrice\"]]\n",
    "pre_df.loc[pre_df.SalePrice <= q1[0], \"SalePrice\"] = pre_df.loc[pre_df.SalePrice <= q1[0], \"SalePrice\"]*0.99\n",
    "train_predict = np.array(pre_df.SalePrice)\n",
    "plt.figure(figsize=(9, 9))\n",
    "plt.scatter(y, train_predict)\n",
    "plt.plot(range(10, 15), range(10, 15), color=\"red\")"
   ]
  },
  {
   "cell_type": "markdown",
   "metadata": {},
   "source": [
    "It looks better! So we use this strategy to predict test data."
   ]
  },
  {
   "cell_type": "code",
   "execution_count": 93,
   "metadata": {},
   "outputs": [],
   "source": [
    "y_test3=0.2*ridge.predict(X_test)+0.2*lasso.predict(X_test)+0.2*gbr.predict(X_test)+0.2*xgbr.predict(X_test)+0.2*elanet.predict(X_test)"
   ]
  },
  {
   "cell_type": "code",
   "execution_count": 94,
   "metadata": {},
   "outputs": [],
   "source": [
    "q1 = pd.DataFrame(y_test3).quantile(0.005)\n",
    "pre_df = pd.DataFrame(y_test3)\n",
    "pre_df[\"SalePrice\"] = y_test3\n",
    "pre_df = pre_df[[\"SalePrice\"]]\n",
    "pre_df.loc[pre_df.SalePrice <= q1[0], \"SalePrice\"] = pre_df.loc[pre_df.SalePrice <= q1[0], \"SalePrice\"] *0.99\n",
    "test_predict = np.array(pre_df.SalePrice)\n",
    "submission[\"SalePrice\"] = np.floor(np.exp(test_predict)-1)\n",
    "submission.to_csv(\"y_test3\", index=False)\n",
    "# RMSE score is 0.11783"
   ]
  },
  {
   "cell_type": "markdown",
   "metadata": {},
   "source": [
    "After submission to kaggle, this 5-models-combination gets a 'RMSE score = 0.11783', which is improved better."
   ]
  },
  {
   "cell_type": "markdown",
   "metadata": {},
   "source": [
    "#### Using stacking method\n",
    "In the end, we try stacking method with the best top 5 models. Since lasso singlely performs best, we choose it be the meta_regressor."
   ]
  },
  {
   "cell_type": "code",
   "execution_count": 95,
   "metadata": {},
   "outputs": [],
   "source": [
    "# Stacking method \n",
    "from mlxtend.regressor import StackingCVRegressor\n",
    "stack_gen = StackingCVRegressor(regressors=(ridge, lasso, elanet, \n",
    "                                            xgbr, gbr), \n",
    "                               meta_regressor=lasso,\n",
    "                               use_features_in_secondary=True)\n",
    "stack_gen_model = stack_gen.fit(X_train.toarray(), np.array(y))\n",
    "y_predict4=stack_gen_model.predict(X_train.toarray())"
   ]
  },
  {
   "cell_type": "markdown",
   "metadata": {},
   "source": [
    "As before, we check the RMSE score with train data first. It is abviously improved compareing with no use of stacking."
   ]
  },
  {
   "cell_type": "code",
   "execution_count": 96,
   "metadata": {},
   "outputs": [
    {
     "name": "stdout",
     "output_type": "stream",
     "text": [
      "0.07121117265716935\n"
     ]
    }
   ],
   "source": [
    "y_predict4_mse = mean_squared_error(y, y_predict4)\n",
    "y_predict4_rmse = np.sqrt(y_predict4_mse)  \n",
    "print(y_predict4_rmse)"
   ]
  },
  {
   "cell_type": "markdown",
   "metadata": {},
   "source": [
    "Then, we draw a scatter plot of y and y predicted with train data. It looks good."
   ]
  },
  {
   "cell_type": "code",
   "execution_count": 97,
   "metadata": {
    "scrolled": true
   },
   "outputs": [
    {
     "data": {
      "text/plain": [
       "[<matplotlib.lines.Line2D at 0x1330a26a0>]"
      ]
     },
     "execution_count": 97,
     "metadata": {},
     "output_type": "execute_result"
    },
    {
     "data": {
      "image/png": "[encoded data removed]",
      "text/plain": [
       "<Figure size 648x648 with 1 Axes>"
      ]
     },
     "metadata": {
      "needs_background": "light"
     },
     "output_type": "display_data"
    }
   ],
   "source": [
    "plt.figure(figsize=(9, 9))\n",
    "plt.scatter(y, y_predict4)\n",
    "plt.plot(range(10, 15), range(10, 15), color=\"red\")"
   ]
  },
  {
   "cell_type": "markdown",
   "metadata": {},
   "source": [
    "So we use this strategy to predict test data."
   ]
  },
  {
   "cell_type": "code",
   "execution_count": 98,
   "metadata": {},
   "outputs": [],
   "source": [
    "y_test4=stack_gen_model.predict(X_test.toarray())"
   ]
  },
  {
   "cell_type": "code",
   "execution_count": 99,
   "metadata": {},
   "outputs": [],
   "source": [
    "submission.iloc[:,1] = np.floor(np.exp(y_test4)-1)\n",
    "submission.to_csv('y_test4', index=False)\n",
    "# RMSE score is 0.11833"
   ]
  },
  {
   "cell_type": "markdown",
   "metadata": {},
   "source": [
    "After submission to kaggle, this stacking method gets a 'RMSE score = 0.11833', which is not better than 5 models combinations. \n",
    "All of all, the best kaggel score we get is 0.11783 with 5-models-combination, which is around top 15% in kaggle competition rank. It's a good start for me. Keep going."
   ]
  }
 ],
 "metadata": {
  "kernelspec": {
   "display_name": "Python 3",
   "language": "python",
   "name": "python3"
  },
  "language_info": {
   "codemirror_mode": {
    "name": "ipython",
    "version": 3
   },
   "file_extension": ".py",
   "mimetype": "text/x-python",
   "name": "python",
   "nbconvert_exporter": "python",
   "pygments_lexer": "ipython3",
   "version": "3.7.2"
  }
 },
 "nbformat": 4,
 "nbformat_minor": 2
}
