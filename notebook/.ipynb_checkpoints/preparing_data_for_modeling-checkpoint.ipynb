{
 "cells": [
  {
   "cell_type": "markdown",
   "metadata": {},
   "source": [
    "3. Preparing data for modeling\n",
    "Loading data "
   ]
  },
  {
   "cell_type": "code",
   "execution_count": 77,
   "metadata": {},
   "outputs": [],
   "source": [
    "import pandas as pd\n",
    "import numpy as np"
   ]
  },
  {
   "cell_type": "code",
   "execution_count": 78,
   "metadata": {},
   "outputs": [],
   "source": [
    "train = pd.read_csv(\"datasets/project/train.csv\")\n",
    "train.drop(['Id'], axis=1, inplace=True)\n",
    "train.SalePrice = np.log1p(train.SalePrice)\n",
    "y = train.SalePrice.reset_index(drop=True)"
   ]
  },
  {
   "cell_type": "code",
   "execution_count": 79,
   "metadata": {},
   "outputs": [
    {
     "data": {
      "text/plain": [
       "(1460, 76)"
      ]
     },
     "execution_count": 79,
     "metadata": {},
     "output_type": "execute_result"
    }
   ],
   "source": [
    "X=pd.read_csv('training_features.csv')\n",
    "X.shape"
   ]
  },
  {
   "cell_type": "markdown",
   "metadata": {},
   "source": [
    "Feature scaling and transformer with pipeline\n",
    "We use StandardScaler for numeric features and OneHotEncoder for the categorical features."
   ]
  },
  {
   "cell_type": "code",
   "execution_count": 80,
   "metadata": {},
   "outputs": [],
   "source": [
    "from sklearn.preprocessing import OneHotEncoder, StandardScaler\n",
    "from sklearn.compose import ColumnTransformer\n",
    "from sklearn.model_selection import cross_val_score\n",
    "import matplotlib.pyplot as plt"
   ]
  },
  {
   "cell_type": "code",
   "execution_count": 81,
   "metadata": {},
   "outputs": [
    {
     "name": "stderr",
     "output_type": "stream",
     "text": [
      "/Users/shaopeng/ml/env/lib/python3.7/site-packages/sklearn/preprocessing/data.py:625: DataConversionWarning: Data with input dtype int64, float64 were all converted to float64 by StandardScaler.\n",
      "  return self.partial_fit(X, y)\n",
      "/Users/shaopeng/ml/env/lib/python3.7/site-packages/sklearn/base.py:462: DataConversionWarning: Data with input dtype int64, float64 were all converted to float64 by StandardScaler.\n",
      "  return self.fit(X, **fit_params).transform(X)\n"
     ]
    }
   ],
   "source": [
    "features_num = X.select_dtypes(include=[np.number])\n",
    "features_cat = X.select_dtypes(exclude=[np.number])\n",
    "num_features = list(features_num)\n",
    "cat_features = list(features_cat)\n",
    "\n",
    "CT=ColumnTransformer([\n",
    "    ('num', StandardScaler(), num_features),\n",
    "    ('cat', OneHotEncoder(), cat_features)\n",
    "])\n",
    "X_prepared = CT.fit_transform(X)"
   ]
  },
  {
   "cell_type": "markdown",
   "metadata": {},
   "source": [
    "Finding and dropping outliers\n",
    "We use two linear model to find outliers. Choose the common data points and drop them."
   ]
  },
  {
   "cell_type": "code",
   "execution_count": 82,
   "metadata": {},
   "outputs": [],
   "source": [
    "import seaborn as sns\n",
    "from sklearn.linear_model import Ridge, ElasticNet"
   ]
  },
  {
   "cell_type": "code",
   "execution_count": 83,
   "metadata": {},
   "outputs": [
    {
     "data": {
      "text/plain": [
       "0.13963011529701336"
      ]
     },
     "execution_count": 83,
     "metadata": {},
     "output_type": "execute_result"
    }
   ],
   "source": [
    "rr = Ridge(alpha=14, fit_intercept=True, normalize=False)\n",
    "rr.fit(X_prepared, y)\n",
    "np.sqrt(-cross_val_score(rr, X_prepared, y, cv=5, scoring=\"neg_mean_squared_error\")).mean()"
   ]
  },
  {
   "cell_type": "code",
   "execution_count": 84,
   "metadata": {},
   "outputs": [
    {
     "data": {
      "text/plain": [
       "array([  30,   88,  142,  277,  328,  365,  410,  438,  462,  473,  495,\n",
       "        523,  533,  588,  628,  632,  681,  688,  710,  714,  728,  774,\n",
       "        812,  874,  898,  916,  935,  968,  970, 1062, 1168, 1181, 1182,\n",
       "       1298, 1324, 1383, 1423, 1432, 1453])"
      ]
     },
     "execution_count": 84,
     "metadata": {},
     "output_type": "execute_result"
    }
   ],
   "source": [
    "y_pred = rr.predict(X_prepared)\n",
    "resid = y - y_pred\n",
    "mean_resid = resid.mean()\n",
    "std_resid = resid.std()\n",
    "z = (resid - mean_resid) / std_resid\n",
    "z = np.array(z)\n",
    "outliers1 = np.where(abs(z) > abs(z).std() * 3)[0]\n",
    "outliers1"
   ]
  },
  {
   "cell_type": "code",
   "execution_count": 85,
   "metadata": {},
   "outputs": [
    {
     "data": {
      "text/plain": [
       "[<matplotlib.lines.Line2D at 0x11ad46320>]"
      ]
     },
     "execution_count": 85,
     "metadata": {},
     "output_type": "execute_result"
    },
    {
     "data": {
      "image/png": "[encoded data removed]",
      "text/plain": [
       "<Figure size 432x432 with 1 Axes>"
      ]
     },
     "metadata": {
      "needs_background": "light"
     },
     "output_type": "display_data"
    }
   ],
   "source": [
    "plt.figure(figsize=(6, 6))\n",
    "plt.scatter(y, y_pred)\n",
    "plt.scatter(y.iloc[outliers1], y_pred[outliers1])\n",
    "plt.plot(range(10, 15), range(10, 15), color=\"red\")"
   ]
  },
  {
   "cell_type": "code",
   "execution_count": 86,
   "metadata": {},
   "outputs": [
    {
     "data": {
      "text/plain": [
       "0.1396257978941848"
      ]
     },
     "execution_count": 86,
     "metadata": {},
     "output_type": "execute_result"
    }
   ],
   "source": [
    "er = ElasticNet(alpha=0.0005, l1_ratio=0.8)\n",
    "er.fit(X_prepared, y)\n",
    "np.sqrt(-cross_val_score(rr, X_prepared, y, cv=5, scoring=\"neg_mean_squared_error\")).mean()"
   ]
  },
  {
   "cell_type": "code",
   "execution_count": 87,
   "metadata": {},
   "outputs": [
    {
     "data": {
      "text/plain": [
       "array([  30,   88,  142,  277,  318,  328,  365,  410,  438,  457,  462,\n",
       "        495,  523,  533,  581,  588,  628,  632,  666,  681,  688,  710,\n",
       "        711,  714,  728,  738,  774,  812,  825,  874,  898,  916,  935,\n",
       "        968,  970, 1062, 1181, 1211, 1298, 1324, 1325, 1383, 1423, 1432,\n",
       "       1453])"
      ]
     },
     "execution_count": 87,
     "metadata": {},
     "output_type": "execute_result"
    }
   ],
   "source": [
    "y_pred = er.predict(X_prepared)\n",
    "resid = y - y_pred\n",
    "mean_resid = resid.mean()\n",
    "std_resid = resid.std()\n",
    "z = (resid - mean_resid) / std_resid\n",
    "z = np.array(z)\n",
    "outliers2 = np.where(abs(z) > abs(z).std() * 3)[0]\n",
    "outliers2"
   ]
  },
  {
   "cell_type": "code",
   "execution_count": 88,
   "metadata": {},
   "outputs": [
    {
     "data": {
      "text/plain": [
       "[<matplotlib.lines.Line2D at 0x12fe94c50>]"
      ]
     },
     "execution_count": 88,
     "metadata": {},
     "output_type": "execute_result"
    },
    {
     "data": {
      "image/png": "[encoded data removed]",
      "text/plain": [
       "<Figure size 432x432 with 1 Axes>"
      ]
     },
     "metadata": {
      "needs_background": "light"
     },
     "output_type": "display_data"
    }
   ],
   "source": [
    "plt.figure(figsize=(6, 6))\n",
    "plt.scatter(y, y_pred)\n",
    "plt.scatter(y.iloc[outliers2], y_pred[outliers2])\n",
    "plt.plot(range(10, 15), range(10, 15), color=\"red\")"
   ]
  },
  {
   "cell_type": "code",
   "execution_count": 89,
   "metadata": {},
   "outputs": [
    {
     "data": {
      "text/plain": [
       "36"
      ]
     },
     "execution_count": 89,
     "metadata": {},
     "output_type": "execute_result"
    }
   ],
   "source": [
    "outliers = []\n",
    "for i in outliers1:\n",
    "    for j in outliers2:\n",
    "        if i == j:\n",
    "            outliers.append(i)\n",
    "len(outliers)"
   ]
  },
  {
   "cell_type": "code",
   "execution_count": 90,
   "metadata": {},
   "outputs": [],
   "source": [
    "c=list(outliers)"
   ]
  },
  {
   "cell_type": "code",
   "execution_count": 91,
   "metadata": {},
   "outputs": [
    {
     "name": "stdout",
     "output_type": "stream",
     "text": [
      "[30, 88, 142, 277, 328, 365, 410, 438, 462, 495, 523, 533, 588, 628, 632, 681, 688, 710, 714, 728, 774, 812, 874, 898, 916, 935, 968, 970, 1062, 1181, 1298, 1324, 1383, 1423, 1432, 1453]\n"
     ]
    }
   ],
   "source": [
    "print(c)"
   ]
  },
  {
   "cell_type": "code",
   "execution_count": 92,
   "metadata": {},
   "outputs": [],
   "source": [
    "X_drop=X.drop(X.index[c])\n",
    "y=y.drop(y.index[c])"
   ]
  },
  {
   "cell_type": "code",
   "execution_count": 93,
   "metadata": {},
   "outputs": [
    {
     "data": {
      "text/plain": [
       "(1424, 76)"
      ]
     },
     "execution_count": 93,
     "metadata": {},
     "output_type": "execute_result"
    }
   ],
   "source": [
    "X_drop.shape"
   ]
  },
  {
   "cell_type": "code",
   "execution_count": 94,
   "metadata": {},
   "outputs": [
    {
     "data": {
      "text/plain": [
       "(1424,)"
      ]
     },
     "execution_count": 94,
     "metadata": {},
     "output_type": "execute_result"
    }
   ],
   "source": [
    "y.shape"
   ]
  },
  {
   "cell_type": "code",
   "execution_count": 99,
   "metadata": {},
   "outputs": [],
   "source": [
    "train_1 = pd.read_csv(\"datasets/project/train.csv\")\n",
    "train_1 = train_1.drop(train_1.index[c])"
   ]
  },
  {
   "cell_type": "code",
   "execution_count": 100,
   "metadata": {},
   "outputs": [],
   "source": [
    "X_drop.to_csv('X_drop.csv', index=False)\n",
    "train_1.to_csv('train_drop.csv', index=False)"
   ]
  }
 ],
 "metadata": {
  "kernelspec": {
   "display_name": "Python 3",
   "language": "python",
   "name": "python3"
  },
  "language_info": {
   "codemirror_mode": {
    "name": "ipython",
    "version": 3
   },
   "file_extension": ".py",
   "mimetype": "text/x-python",
   "name": "python",
   "nbconvert_exporter": "python",
   "pygments_lexer": "ipython3",
   "version": "3.7.2"
  }
 },
 "nbformat": 4,
 "nbformat_minor": 2
}
